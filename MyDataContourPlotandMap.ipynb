{
 "cells": [
  {
   "cell_type": "markdown",
   "metadata": {},
   "source": [
    "## Sophia Whitaker \n",
    "### Data Information:\n",
    "#### - Observed monthly mean precipitation data over the India region from 1901-2019 in units of mm/day\n",
    "#### - NetCDF format found on the COLA servers"
   ]
  },
  {
   "cell_type": "markdown",
   "metadata": {},
   "source": [
    "##### Assignment 1a"
   ]
  },
  {
   "cell_type": "code",
   "execution_count": 1,
   "metadata": {},
   "outputs": [],
   "source": [
    "import numpy as np\n",
    "import matplotlib.pyplot as plt\n",
    "import xarray as xr"
   ]
  },
  {
   "cell_type": "code",
   "execution_count": 2,
   "metadata": {},
   "outputs": [],
   "source": [
    "file='/homes/swhitak9/clim680data/monthly_precip_India_total.nc'"
   ]
  },
  {
   "cell_type": "code",
   "execution_count": 3,
   "metadata": {},
   "outputs": [],
   "source": [
    "ds=xr.open_dataset(file, decode_times=False)"
   ]
  },
  {
   "cell_type": "code",
   "execution_count": 4,
   "metadata": {},
   "outputs": [
    {
     "data": {
      "text/plain": [
       "<xarray.Dataset>\n",
       "Dimensions:  (lat: 129, lon: 135, time: 1428)\n",
       "Coordinates:\n",
       "  * lon      (lon) float64 66.5 66.75 67.0 67.25 67.5 ... 99.25 99.5 99.75 100.0\n",
       "  * lat      (lat) float64 6.5 6.75 7.0 7.25 7.5 ... 37.5 37.75 38.0 38.25 38.5\n",
       "  * time     (time) float64 0.0 1.0 2.0 3.0 ... 1.425e+03 1.426e+03 1.427e+03\n",
       "Data variables:\n",
       "    pr       (time, lat, lon) float32 ...\n",
       "Attributes:\n",
       "    CDI:          Climate Data Interface version 1.8.2 (http://mpimet.mpg.de/...\n",
       "    Conventions:  CF-1.6\n",
       "    history:      Tue Sep 01 11:33:12 2020: cdo mergetime rainfall1_by2nc_mon...\n",
       "    CDO:          Climate Data Operators version 1.8.2 (http://mpimet.mpg.de/..."
      ]
     },
     "execution_count": 4,
     "metadata": {},
     "output_type": "execute_result"
    }
   ],
   "source": [
    "ds"
   ]
  },
  {
   "cell_type": "code",
   "execution_count": 5,
   "metadata": {},
   "outputs": [
    {
     "data": {
      "text/plain": [
       "<matplotlib.contour.QuadContourSet at 0x7f6330f7cd30>"
      ]
     },
     "execution_count": 5,
     "metadata": {},
     "output_type": "execute_result"
    },
    {
     "data": {
      "image/png": "[encoded data removed]",
      "text/plain": [
       "<Figure size 432x288 with 1 Axes>"
      ]
     },
     "metadata": {
      "needs_background": "light"
     },
     "output_type": "display_data"
    }
   ],
   "source": [
    "plt.contourf(ds['pr'][0,:,:])"
   ]
  },
  {
   "cell_type": "code",
   "execution_count": 6,
   "metadata": {},
   "outputs": [],
   "source": [
    "import cartopy.crs as ccrs\n",
    "from cartopy.util import add_cyclic_point  \n",
    "import cartopy.mpl.ticker as cticker"
   ]
  },
  {
   "cell_type": "code",
   "execution_count": 16,
   "metadata": {},
   "outputs": [
    {
     "data": {
      "text/plain": [
       "Text(0.5, 1.0, 'Precipitation over India 1901-2019')"
      ]
     },
     "execution_count": 16,
     "metadata": {},
     "output_type": "execute_result"
    },
    {
     "data": {
      "image/png": "[encoded data removed]",
      "text/plain": [
       "<Figure size 792x612 with 2 Axes>"
      ]
     },
     "metadata": {
      "needs_background": "light"
     },
     "output_type": "display_data"
    }
   ],
   "source": [
    "ds_mean=ds.mean(dim='time')\n",
    "\n",
    "fig=plt.figure(figsize=(11,8.5))\n",
    "\n",
    "ax=plt.axes(projection=ccrs.Orthographic())\n",
    "\n",
    "data=ds_mean['pr']\n",
    "data,lon=add_cyclic_point(data,coord=ds_mean['lon'])\n",
    "\n",
    "cs=ax.contourf(lon,ds_mean['lat'],data,transform=ccrs.Orthographic(),cmap='BrBG')\n",
    "                          \n",
    "                          \n",
    "\n",
    "ax.coastlines()\n",
    "                          \n",
    "                          \n",
    "                          \n",
    "                \n",
    "cbar=plt.colorbar(cs,orientation='horizontal',label='Precipitation (mm/day)')                          \n",
    "\n",
    "                          \n",
    "                          \n",
    "                          \n",
    "plt.title('Precipitation over India 1901-2019')\n",
    "\n"
   ]
  },
  {
   "cell_type": "code",
   "execution_count": null,
   "metadata": {},
   "outputs": [],
   "source": []
  }
 ],
 "metadata": {
  "kernelspec": {
   "display_name": "Python 3",
   "language": "python",
   "name": "python3"
  },
  "language_info": {
   "codemirror_mode": {
    "name": "ipython",
    "version": 3
   },
   "file_extension": ".py",
   "mimetype": "text/x-python",
   "name": "python",
   "nbconvert_exporter": "python",
   "pygments_lexer": "ipython3",
   "version": "3.7.3"
  }
 },
 "nbformat": 4,
 "nbformat_minor": 4
}
